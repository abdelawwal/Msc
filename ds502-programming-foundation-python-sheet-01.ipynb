{
 "cells": [
  {
   "cell_type": "code",
   "execution_count": 1,
   "id": "a6ca6284",
   "metadata": {
    "_cell_guid": "b1076dfc-b9ad-4769-8c92-a6c4dae69d19",
    "_uuid": "8f2839f25d086af736a60e9eeb907d3b93b6e0e5",
    "execution": {
     "iopub.execute_input": "2022-11-18T23:24:36.675215Z",
     "iopub.status.busy": "2022-11-18T23:24:36.674457Z",
     "iopub.status.idle": "2022-11-18T23:24:36.683229Z",
     "shell.execute_reply": "2022-11-18T23:24:36.682447Z"
    },
    "papermill": {
     "duration": 0.020307,
     "end_time": "2022-11-18T23:24:36.685201",
     "exception": false,
     "start_time": "2022-11-18T23:24:36.664894",
     "status": "completed"
    },
    "tags": []
   },
   "outputs": [],
   "source": [
    "# This Python 3 environment comes with many helpful analytics libraries installed\n",
    "# It is defined by the kaggle/python Docker image: https://github.com/kaggle/docker-python\n",
    "# For example, here's several helpful packages to load\n",
    "\n",
    "import numpy as np # linear algebra\n",
    "import pandas as pd # data processing, CSV file I/O (e.g. pd.read_csv)"
   ]
  },
  {
   "cell_type": "markdown",
   "id": "9040df45",
   "metadata": {
    "papermill": {
     "duration": 0.007292,
     "end_time": "2022-11-18T23:24:36.702317",
     "exception": false,
     "start_time": "2022-11-18T23:24:36.695025",
     "status": "completed"
    },
    "tags": []
   },
   "source": [
    "### Question 1:\n",
    "    \n",
    "    # Write a python program to input an alphabet and check whether it is vowel or consonant.\n",
    "    # Note: Vowel alphabets are: {a, e, o, u, i} All other alphabets are consonant\n",
    "\n"
   ]
  },
  {
   "cell_type": "code",
   "execution_count": 2,
   "id": "e3f1be5d",
   "metadata": {
    "execution": {
     "iopub.execute_input": "2022-11-18T23:24:36.718597Z",
     "iopub.status.busy": "2022-11-18T23:24:36.718274Z",
     "iopub.status.idle": "2022-11-18T23:24:36.774958Z",
     "shell.execute_reply": "2022-11-18T23:24:36.773254Z"
    },
    "papermill": {
     "duration": 0.067557,
     "end_time": "2022-11-18T23:24:36.777443",
     "exception": true,
     "start_time": "2022-11-18T23:24:36.709886",
     "status": "failed"
    },
    "tags": []
   },
   "outputs": [
    {
     "ename": "StdinNotImplementedError",
     "evalue": "raw_input was called, but this frontend does not support input requests.",
     "output_type": "error",
     "traceback": [
      "\u001b[0;31m---------------------------------------------------------------------------\u001b[0m",
      "\u001b[0;31mStdinNotImplementedError\u001b[0m                  Traceback (most recent call last)",
      "\u001b[0;32m/tmp/ipykernel_20/2364158336.py\u001b[0m in \u001b[0;36m<module>\u001b[0;34m\u001b[0m\n\u001b[0;32m----> 1\u001b[0;31m \u001b[0malphabet_v\u001b[0m\u001b[0;34m=\u001b[0m \u001b[0minput\u001b[0m\u001b[0;34m(\u001b[0m\u001b[0;34m'Enter the alphabet you want to check?'\u001b[0m\u001b[0;34m)\u001b[0m\u001b[0;34m\u001b[0m\u001b[0;34m\u001b[0m\u001b[0m\n\u001b[0m\u001b[1;32m      2\u001b[0m \u001b[0mprint\u001b[0m\u001b[0;34m(\u001b[0m\u001b[0;34m\"\\n\"\u001b[0m\u001b[0;34m)\u001b[0m\u001b[0;34m\u001b[0m\u001b[0;34m\u001b[0m\u001b[0m\n\u001b[1;32m      3\u001b[0m \u001b[0;31m#vowel alphabets list\u001b[0m\u001b[0;34m\u001b[0m\u001b[0;34m\u001b[0m\u001b[0;34m\u001b[0m\u001b[0m\n\u001b[1;32m      4\u001b[0m \u001b[0mvowel_list\u001b[0m \u001b[0;34m=\u001b[0m \u001b[0;34m[\u001b[0m\u001b[0;34m'a'\u001b[0m\u001b[0;34m,\u001b[0m\u001b[0;34m'e'\u001b[0m\u001b[0;34m,\u001b[0m\u001b[0;34m'o'\u001b[0m\u001b[0;34m,\u001b[0m\u001b[0;34m'u'\u001b[0m\u001b[0;34m,\u001b[0m\u001b[0;34m'i'\u001b[0m\u001b[0;34m]\u001b[0m\u001b[0;34m\u001b[0m\u001b[0;34m\u001b[0m\u001b[0m\n\u001b[1;32m      5\u001b[0m \u001b[0;34m\u001b[0m\u001b[0m\n",
      "\u001b[0;32m/opt/conda/lib/python3.7/site-packages/ipykernel/kernelbase.py\u001b[0m in \u001b[0;36mraw_input\u001b[0;34m(self, prompt)\u001b[0m\n\u001b[1;32m   1173\u001b[0m         \u001b[0;32mif\u001b[0m \u001b[0;32mnot\u001b[0m \u001b[0mself\u001b[0m\u001b[0;34m.\u001b[0m\u001b[0m_allow_stdin\u001b[0m\u001b[0;34m:\u001b[0m\u001b[0;34m\u001b[0m\u001b[0;34m\u001b[0m\u001b[0m\n\u001b[1;32m   1174\u001b[0m             raise StdinNotImplementedError(\n\u001b[0;32m-> 1175\u001b[0;31m                 \u001b[0;34m\"raw_input was called, but this frontend does not support input requests.\"\u001b[0m\u001b[0;34m\u001b[0m\u001b[0;34m\u001b[0m\u001b[0m\n\u001b[0m\u001b[1;32m   1176\u001b[0m             )\n\u001b[1;32m   1177\u001b[0m         return self._input_request(\n",
      "\u001b[0;31mStdinNotImplementedError\u001b[0m: raw_input was called, but this frontend does not support input requests."
     ]
    }
   ],
   "source": [
    "alphabet_v= input('Enter the alphabet you want to check?')\n",
    "print(\"\\n\")\n",
    "#vowel alphabets list\n",
    "vowel_list = ['a','e','o','u','i']\n",
    "\n",
    "#if statement to check if input lettwr is vowel or not \n",
    "if alphabet_v in vowel_list:\n",
    "\n",
    "    print('The alphabet [',alphabet_v,'] is a Vowel alphabets')\n",
    "else:\n",
    "    print('The alphabet [',alphabet_v,'] is not a Vowel alphabets')\n"
   ]
  },
  {
   "cell_type": "markdown",
   "id": "21559503",
   "metadata": {
    "papermill": {
     "duration": null,
     "end_time": null,
     "exception": null,
     "start_time": null,
     "status": "pending"
    },
    "tags": []
   },
   "source": [
    "### Question 2:\n",
    "\n",
    "    # Write a python program that prompts the user to input a number. \n",
    "    # The program should then output this number and a message saying whether it is even or odd.\n"
   ]
  },
  {
   "cell_type": "code",
   "execution_count": null,
   "id": "983f0484",
   "metadata": {
    "execution": {
     "iopub.execute_input": "2022-11-18T23:20:53.234717Z",
     "iopub.status.busy": "2022-11-18T23:20:53.234311Z",
     "iopub.status.idle": "2022-11-18T23:20:55.093571Z",
     "shell.execute_reply": "2022-11-18T23:20:55.092480Z",
     "shell.execute_reply.started": "2022-11-18T23:20:53.234684Z"
    },
    "papermill": {
     "duration": null,
     "end_time": null,
     "exception": null,
     "start_time": null,
     "status": "pending"
    },
    "tags": []
   },
   "outputs": [],
   "source": [
    "# input statement to prombte about the number \n",
    "# the int used to convert the input value to integer \n",
    "v1 = int(input('Enter the number you want to check if even or odd ?'))\n",
    "#IF stetement to check if the number is even or odd.\n",
    "\n",
    "if v1%2 == 0 :\n",
    "    # IF the number is EVEN\n",
    "    print('The Number [' , v1 , '] is EVEN.')\n",
    "else:\n",
    "    # IF the number is ODD\n",
    "    print('The Number [' , v1 , '] is ODD.')            "
   ]
  },
  {
   "cell_type": "markdown",
   "id": "b28120f6",
   "metadata": {
    "papermill": {
     "duration": null,
     "end_time": null,
     "exception": null,
     "start_time": null,
     "status": "pending"
    },
    "tags": []
   },
   "source": [
    "### Question 3:\n",
    "\n",
    "    # Write a python program to input a character from user and check whether the given character is \n",
    "    # alphabet, digit or special character.\n"
   ]
  },
  {
   "cell_type": "code",
   "execution_count": null,
   "id": "816a2689",
   "metadata": {
    "execution": {
     "iopub.execute_input": "2022-11-18T23:20:57.843706Z",
     "iopub.status.busy": "2022-11-18T23:20:57.843314Z",
     "iopub.status.idle": "2022-11-18T23:21:01.128027Z",
     "shell.execute_reply": "2022-11-18T23:21:01.126941Z",
     "shell.execute_reply.started": "2022-11-18T23:20:57.843675Z"
    },
    "papermill": {
     "duration": null,
     "end_time": null,
     "exception": null,
     "start_time": null,
     "status": "pending"
    },
    "tags": []
   },
   "outputs": [],
   "source": [
    "# initiate a value to test\n",
    "st = input('Enter your character to test : ')\n",
    "# if statement to test if the character is alphabet , digit or special character\n",
    "if st[0].isalpha() :\n",
    "    print(\"\\n\"+ st[0], ' is alphabet.')\n",
    "elif st[0].isdigit():\n",
    "    print(\"\\n\"+st[0] , ' is a digit')\n",
    "else:\n",
    "    print(\"\\n\"+st[0] , ' is a special character')"
   ]
  },
  {
   "cell_type": "markdown",
   "id": "d4f4d088",
   "metadata": {
    "papermill": {
     "duration": null,
     "end_time": null,
     "exception": null,
     "start_time": null,
     "status": "pending"
    },
    "tags": []
   },
   "source": [
    "### Question 4:\n",
    "    # Write a python program that prompts the user to input a number. The program should then output this number and \n",
    "    # a message saying whether it is positive, negative, or zero.\n"
   ]
  },
  {
   "cell_type": "code",
   "execution_count": null,
   "id": "4532451b",
   "metadata": {
    "execution": {
     "iopub.execute_input": "2022-11-18T23:21:03.472564Z",
     "iopub.status.busy": "2022-11-18T23:21:03.472086Z",
     "iopub.status.idle": "2022-11-18T23:21:07.473416Z",
     "shell.execute_reply": "2022-11-18T23:21:07.472101Z",
     "shell.execute_reply.started": "2022-11-18T23:21:03.472529Z"
    },
    "papermill": {
     "duration": null,
     "end_time": null,
     "exception": null,
     "start_time": null,
     "status": "pending"
    },
    "tags": []
   },
   "outputs": [],
   "source": [
    "# prompte statement for the number to test\n",
    "di = int(input(\"Enter the number to test : \"))\n",
    "\n",
    "# if statement to check about the type of the number\n",
    "if di == 0:\n",
    "    print(\"The number \",di,\" is Zero\")\n",
    "elif di > 0:\n",
    "    print(\"The Number \",di,\" is a Positive\")\n",
    "elif di < 0:\n",
    "    print(\"The Number \",di,\" is a Negative\")\n",
    "    "
   ]
  },
  {
   "cell_type": "markdown",
   "id": "b67194d9",
   "metadata": {
    "papermill": {
     "duration": null,
     "end_time": null,
     "exception": null,
     "start_time": null,
     "status": "pending"
    },
    "tags": []
   },
   "source": [
    "#### Question 5:\n",
    "\n",
    "    # Write a python program of a four-function calculator. The program\n",
    "    # should ask the user to enter a number, an operator, and another number. It\n",
    "    # should then carry out the specified arithmetical operation: adding,\n",
    "    # subtracting, multiplying, or dividing the two numbers.\n"
   ]
  },
  {
   "cell_type": "code",
   "execution_count": null,
   "id": "927c6491",
   "metadata": {
    "execution": {
     "iopub.execute_input": "2022-11-18T23:21:10.293930Z",
     "iopub.status.busy": "2022-11-18T23:21:10.293504Z",
     "iopub.status.idle": "2022-11-18T23:21:16.347398Z",
     "shell.execute_reply": "2022-11-18T23:21:16.346171Z",
     "shell.execute_reply.started": "2022-11-18T23:21:10.293895Z"
    },
    "papermill": {
     "duration": null,
     "end_time": null,
     "exception": null,
     "start_time": null,
     "status": "pending"
    },
    "tags": []
   },
   "outputs": [],
   "source": [
    "var1 = int(input(\"Enter the first value :  \"))\n",
    "var2 = int(input(\"Enter the second value :  \"))\n",
    "operator = input(\"Enter the operator :  \")\n",
    "print(\"\\n\")\n",
    "\n",
    "if operator=='+':\n",
    "    print(\"The value of adding [\",var1,\"] to [\",var2,\"] are :::\",var1+var2)\n",
    "elif operator=='-':\n",
    "    print(\"The value of subtracting [\",var1,\"] from [\",var2,\"] are :::\",var2-var1)\n",
    "elif operator=='*':\n",
    "    print(\"The value of multiplication [\",var1,\"] and [\",var2,\"] are :::\",var2*var1)\n",
    "elif operator=='/':\n",
    "    print(\"The value of dividing [\",var1,\"] and [\",var2,\"] are :::\",var1/var2)"
   ]
  },
  {
   "cell_type": "markdown",
   "id": "a6708000",
   "metadata": {
    "papermill": {
     "duration": null,
     "end_time": null,
     "exception": null,
     "start_time": null,
     "status": "pending"
    },
    "tags": []
   },
   "source": [
    "### Question 6:\n",
    "    # Write a python program that will prompt the user to input 5 integer values\n",
    "    # to be stored in a list.\n"
   ]
  },
  {
   "cell_type": "code",
   "execution_count": null,
   "id": "e2e6e1ae",
   "metadata": {
    "execution": {
     "iopub.execute_input": "2022-11-18T23:21:19.073922Z",
     "iopub.status.busy": "2022-11-18T23:21:19.073143Z",
     "iopub.status.idle": "2022-11-18T23:21:29.625313Z",
     "shell.execute_reply": "2022-11-18T23:21:29.624026Z",
     "shell.execute_reply.started": "2022-11-18T23:21:19.073881Z"
    },
    "papermill": {
     "duration": null,
     "end_time": null,
     "exception": null,
     "start_time": null,
     "status": "pending"
    },
    "tags": []
   },
   "outputs": [],
   "source": [
    "# Create Empty list\n",
    "\n",
    "lst=[]\n",
    "# create while loop to collect the list elements\n",
    "\n",
    "i = 1\n",
    "while i <= 5:\n",
    "    lst += input(\"Enter the list element :\")\n",
    "    i = i + 1\n",
    "    \n",
    "print(lst)"
   ]
  },
  {
   "cell_type": "markdown",
   "id": "6ac4e56a",
   "metadata": {
    "papermill": {
     "duration": null,
     "end_time": null,
     "exception": null,
     "start_time": null,
     "status": "pending"
    },
    "tags": []
   },
   "source": [
    "### Question 7:\n",
    "\n",
    "    # Write a python program that print the values of a list.\n"
   ]
  },
  {
   "cell_type": "code",
   "execution_count": null,
   "id": "2e454420",
   "metadata": {
    "execution": {
     "iopub.execute_input": "2022-11-18T23:21:33.527583Z",
     "iopub.status.busy": "2022-11-18T23:21:33.527164Z",
     "iopub.status.idle": "2022-11-18T23:21:33.533977Z",
     "shell.execute_reply": "2022-11-18T23:21:33.532844Z",
     "shell.execute_reply.started": "2022-11-18T23:21:33.527546Z"
    },
    "papermill": {
     "duration": null,
     "end_time": null,
     "exception": null,
     "start_time": null,
     "status": "pending"
    },
    "tags": []
   },
   "outputs": [],
   "source": [
    "\n",
    "lst = ['Sunday','Monday','Tuesday','Wednesday','Thursday','Friday','Saturday']\n",
    "\n",
    "print(lst)\n",
    "print('--- --- --- \\n')\n",
    "for i in lst:\n",
    "    print(i)\n"
   ]
  },
  {
   "cell_type": "markdown",
   "id": "3d6e25d8",
   "metadata": {
    "papermill": {
     "duration": null,
     "end_time": null,
     "exception": null,
     "start_time": null,
     "status": "pending"
    },
    "tags": []
   },
   "source": [
    "### Question 8:\n",
    "    \n",
    "    # Write a python program that print the values of a list in a reverse order.\n"
   ]
  },
  {
   "cell_type": "code",
   "execution_count": null,
   "id": "c70652a3",
   "metadata": {
    "execution": {
     "iopub.execute_input": "2022-11-18T23:21:38.163396Z",
     "iopub.status.busy": "2022-11-18T23:21:38.162627Z",
     "iopub.status.idle": "2022-11-18T23:21:38.170550Z",
     "shell.execute_reply": "2022-11-18T23:21:38.169418Z",
     "shell.execute_reply.started": "2022-11-18T23:21:38.163357Z"
    },
    "papermill": {
     "duration": null,
     "end_time": null,
     "exception": null,
     "start_time": null,
     "status": "pending"
    },
    "tags": []
   },
   "outputs": [],
   "source": [
    "\n",
    "# Initialize array     \n",
    "lst = ['Sunday','Monday','Tuesday','Wednesday','Thursday','Friday','Saturday']\n",
    "\n",
    "print(\"Array in reverse order: \")   \n",
    "print(\"--- --- --- --- \\n\")   \n",
    "#Loop through the array in reverse order    \n",
    "for i in range(len(lst)-1, -1, -1):     \n",
    "    print(lst[i])"
   ]
  },
  {
   "cell_type": "markdown",
   "id": "3a0616f0",
   "metadata": {
    "papermill": {
     "duration": null,
     "end_time": null,
     "exception": null,
     "start_time": null,
     "status": "pending"
    },
    "tags": []
   },
   "source": [
    "### Question 9:\n",
    "    # Write a python program that will prompt the user to input a list of 5\n",
    "    # integer values. Then it print their summation and average."
   ]
  },
  {
   "cell_type": "code",
   "execution_count": null,
   "id": "5de15f3f",
   "metadata": {
    "execution": {
     "iopub.execute_input": "2022-11-18T23:21:41.527365Z",
     "iopub.status.busy": "2022-11-18T23:21:41.526929Z",
     "iopub.status.idle": "2022-11-18T23:21:56.357289Z",
     "shell.execute_reply": "2022-11-18T23:21:56.356177Z",
     "shell.execute_reply.started": "2022-11-18T23:21:41.527327Z"
    },
    "papermill": {
     "duration": null,
     "end_time": null,
     "exception": null,
     "start_time": null,
     "status": "pending"
    },
    "tags": []
   },
   "outputs": [],
   "source": [
    "\n",
    "# Create Empty list\n",
    "\n",
    "lst=[]\n",
    "# create while loop to collect the list elements\n",
    "\n",
    "i = 1\n",
    "while i <= 5:\n",
    "    lst.append(int(input('Enter a list element :')))\n",
    "    i = i + 1\n",
    "\n",
    "print(\"\\n\")\n",
    "print(\"The summation of the list elements is: \",sum(lst))\n",
    "print(\"\\n\")\n",
    "print(\"The average of the list elements is: \",sum(lst)/len(lst))"
   ]
  },
  {
   "cell_type": "markdown",
   "id": "c7e0c315",
   "metadata": {
    "papermill": {
     "duration": null,
     "end_time": null,
     "exception": null,
     "start_time": null,
     "status": "pending"
    },
    "tags": []
   },
   "source": [
    "### Question 10:\n",
    "    # Write a python program that will prompt the user to input a list of 5\n",
    "    # integer values. Then it print the summation and average of its contained\n",
    "    # even numbers.\n"
   ]
  },
  {
   "cell_type": "code",
   "execution_count": null,
   "id": "859a83e4",
   "metadata": {
    "execution": {
     "iopub.execute_input": "2022-11-18T23:22:00.608380Z",
     "iopub.status.busy": "2022-11-18T23:22:00.607537Z",
     "iopub.status.idle": "2022-11-18T23:22:07.223864Z",
     "shell.execute_reply": "2022-11-18T23:22:07.222611Z",
     "shell.execute_reply.started": "2022-11-18T23:22:00.608333Z"
    },
    "papermill": {
     "duration": null,
     "end_time": null,
     "exception": null,
     "start_time": null,
     "status": "pending"
    },
    "tags": []
   },
   "outputs": [],
   "source": [
    "   \n",
    "# Create Empty list\n",
    "\n",
    "lst=[]\n",
    "# create while loop to collect the list elements\n",
    "sum_v = 0\n",
    "count = 0\n",
    "i = 1\n",
    "while i <= 5:\n",
    "    print(\"Enter number at index\", i, )\n",
    "    item = int(input())\n",
    "    lst.append(item)\n",
    "    i = i + 1\n",
    "for x in lst:\n",
    "    if x%2 == 0 :\n",
    "        count += 1\n",
    "        sum_v += x\n",
    "\n",
    "print(\"The Average of the list even elemts is :\", sum_v/count)        \n",
    "    "
   ]
  },
  {
   "cell_type": "markdown",
   "id": "67e99d02",
   "metadata": {
    "papermill": {
     "duration": null,
     "end_time": null,
     "exception": null,
     "start_time": null,
     "status": "pending"
    },
    "tags": []
   },
   "source": [
    "### Question 11:\n",
    "    # Write a python program that will prompt the user to input a list of 5\n",
    "    # integer values. Then it print its maximum and minimum values.\n"
   ]
  },
  {
   "cell_type": "code",
   "execution_count": null,
   "id": "6528a31f",
   "metadata": {
    "execution": {
     "iopub.execute_input": "2022-11-18T23:22:16.776216Z",
     "iopub.status.busy": "2022-11-18T23:22:16.775783Z",
     "iopub.status.idle": "2022-11-18T23:22:27.851510Z",
     "shell.execute_reply": "2022-11-18T23:22:27.850177Z",
     "shell.execute_reply.started": "2022-11-18T23:22:16.776185Z"
    },
    "papermill": {
     "duration": null,
     "end_time": null,
     "exception": null,
     "start_time": null,
     "status": "pending"
    },
    "tags": []
   },
   "outputs": [],
   "source": [
    "\n",
    "# Create Empty list\n",
    "\n",
    "lst=[]\n",
    "    \n",
    "for i in range(0, 5):\n",
    "    print(\"Enter number at index\", i, )\n",
    "    item = int(input())\n",
    "    lst.append(item)\n",
    "    \n",
    "print(\"\\n\")\n",
    "print(\"\\n\")\n",
    "print(\"list is \", lst)\n",
    "print(\"\\n\")\n",
    "print(\"The minimum List iem is : \", min(lst))\n",
    "print(\"\\n\")\n",
    "print(\"The Maximum list item is : \", max(lst))"
   ]
  },
  {
   "cell_type": "markdown",
   "id": "8f234a7b",
   "metadata": {
    "papermill": {
     "duration": null,
     "end_time": null,
     "exception": null,
     "start_time": null,
     "status": "pending"
    },
    "tags": []
   },
   "source": [
    "### Question 12:\n",
    "    # Write a python program that will prompt the user to input a list of 5\n",
    "    # integer values. Then it ask the user to enter a number to check whether or\n",
    "    # not this number is found in the list or not.\n"
   ]
  },
  {
   "cell_type": "code",
   "execution_count": null,
   "id": "0d2b299c",
   "metadata": {
    "execution": {
     "iopub.execute_input": "2022-11-18T23:22:33.380751Z",
     "iopub.status.busy": "2022-11-18T23:22:33.380063Z",
     "iopub.status.idle": "2022-11-18T23:22:45.013844Z",
     "shell.execute_reply": "2022-11-18T23:22:45.012457Z",
     "shell.execute_reply.started": "2022-11-18T23:22:33.380714Z"
    },
    "papermill": {
     "duration": null,
     "end_time": null,
     "exception": null,
     "start_time": null,
     "status": "pending"
    },
    "tags": []
   },
   "outputs": [],
   "source": [
    "    \n",
    "# Create Empty list\n",
    "\n",
    "lst=[]\n",
    "# counter the number of items like variable in list\n",
    "count = 0\n",
    "\n",
    "for i in range(0, 5):\n",
    "    print(\"Enter number at index\", i, )\n",
    "    item = int(input())\n",
    "    lst.append(item)\n",
    "\n",
    "var = int(input(\"Enter the number to check if it is in list elements :\"))\n",
    "for i in lst:\n",
    "    if i == var:\n",
    "        count +=1\n",
    "\n",
    "print(\"\\n\")\n",
    "print (\"the item \",var , \" found in he list \", count , \" times\")"
   ]
  },
  {
   "cell_type": "markdown",
   "id": "5267ca5e",
   "metadata": {
    "papermill": {
     "duration": null,
     "end_time": null,
     "exception": null,
     "start_time": null,
     "status": "pending"
    },
    "tags": []
   },
   "source": [
    "### Question 13:\n",
    "    # Write a python program that will prompt the user to input an index of a\n",
    "    # list to print its value.\n"
   ]
  },
  {
   "cell_type": "code",
   "execution_count": null,
   "id": "0c1db996",
   "metadata": {
    "execution": {
     "iopub.execute_input": "2022-11-18T23:22:48.459082Z",
     "iopub.status.busy": "2022-11-18T23:22:48.458544Z",
     "iopub.status.idle": "2022-11-18T23:22:52.682252Z",
     "shell.execute_reply": "2022-11-18T23:22:52.681030Z",
     "shell.execute_reply.started": "2022-11-18T23:22:48.459038Z"
    },
    "papermill": {
     "duration": null,
     "end_time": null,
     "exception": null,
     "start_time": null,
     "status": "pending"
    },
    "tags": []
   },
   "outputs": [],
   "source": [
    "    \n",
    "# Initialize array     \n",
    "lst = ['Sunday','Monday','Tuesday','Wednesday','Thursday','Friday','Saturday']    \n",
    "\n",
    "var = int(input(\"Enter the List Index to print : \"))\n",
    "\n",
    "print(\"\\n\")\n",
    "print(\"The list element for index \",var,\" is :\" , lst[var])"
   ]
  },
  {
   "cell_type": "markdown",
   "id": "801e0d58",
   "metadata": {
    "papermill": {
     "duration": null,
     "end_time": null,
     "exception": null,
     "start_time": null,
     "status": "pending"
    },
    "tags": []
   },
   "source": [
    "### Question 14:\n",
    "    # Write a python program that will prompt the user to input a list of 5\n",
    "    # integer values. Then it count the number of occurrence of the given\n",
    "    # number in such list.\n"
   ]
  },
  {
   "cell_type": "code",
   "execution_count": null,
   "id": "271a3ed1",
   "metadata": {
    "execution": {
     "iopub.execute_input": "2022-11-18T23:22:58.642285Z",
     "iopub.status.busy": "2022-11-18T23:22:58.641366Z",
     "iopub.status.idle": "2022-11-18T23:23:11.264720Z",
     "shell.execute_reply": "2022-11-18T23:23:11.263555Z",
     "shell.execute_reply.started": "2022-11-18T23:22:58.642234Z"
    },
    "papermill": {
     "duration": null,
     "end_time": null,
     "exception": null,
     "start_time": null,
     "status": "pending"
    },
    "tags": []
   },
   "outputs": [],
   "source": [
    "# Create Empty list\n",
    "\n",
    "lst=[]\n",
    "\n",
    "for i in range(0, 5):\n",
    "    print(\"Enter number at index\", i, )\n",
    "    item = int(input())\n",
    "    lst.append(item)\n",
    "\n",
    "x = int(input(\"Enter the Value to count in a list : \"))\n",
    "print('{} has occurred {} times'.format(x,lst.count(x)))"
   ]
  },
  {
   "cell_type": "markdown",
   "id": "95348090",
   "metadata": {
    "papermill": {
     "duration": null,
     "end_time": null,
     "exception": null,
     "start_time": null,
     "status": "pending"
    },
    "tags": []
   },
   "source": [
    "### Question 15:\n",
    "    # Write a python program that merge two lists.\n"
   ]
  },
  {
   "cell_type": "code",
   "execution_count": null,
   "id": "89ec7fda",
   "metadata": {
    "execution": {
     "iopub.execute_input": "2022-11-18T23:23:14.504117Z",
     "iopub.status.busy": "2022-11-18T23:23:14.503666Z",
     "iopub.status.idle": "2022-11-18T23:23:14.511482Z",
     "shell.execute_reply": "2022-11-18T23:23:14.510139Z",
     "shell.execute_reply.started": "2022-11-18T23:23:14.504070Z"
    },
    "papermill": {
     "duration": null,
     "end_time": null,
     "exception": null,
     "start_time": null,
     "status": "pending"
    },
    "tags": []
   },
   "outputs": [],
   "source": [
    "\n",
    "# list 1\n",
    "months = [\"January\", \"February\", \"March\", \"April\", \"May\", \"June\"]\n",
    "\n",
    "# list 2\n",
    "months_1 = [\"July\", \"August\", \"September\", \"October\", \"November\", \"December\"]\n",
    "\n",
    "for i in months_1:\n",
    "    months.append(i)\n",
    "\n",
    "print(\"The Months list elements are : \\n\", months)"
   ]
  },
  {
   "cell_type": "markdown",
   "id": "f22e4fd1",
   "metadata": {
    "papermill": {
     "duration": null,
     "end_time": null,
     "exception": null,
     "start_time": null,
     "status": "pending"
    },
    "tags": []
   },
   "source": [
    "### Question 16:\n",
    "    # Write a python program that will prompt the user to input a list of 5\n",
    "    # integer values. Then it splits the list into two lists; the first will contains\n",
    "    # even numbers while the other will contain odd numbers.\n",
    "    \n"
   ]
  },
  {
   "cell_type": "code",
   "execution_count": null,
   "id": "851dc3ae",
   "metadata": {
    "execution": {
     "iopub.execute_input": "2022-11-18T23:23:17.663722Z",
     "iopub.status.busy": "2022-11-18T23:23:17.663324Z",
     "iopub.status.idle": "2022-11-18T23:23:30.346251Z",
     "shell.execute_reply": "2022-11-18T23:23:30.345472Z",
     "shell.execute_reply.started": "2022-11-18T23:23:17.663690Z"
    },
    "papermill": {
     "duration": null,
     "end_time": null,
     "exception": null,
     "start_time": null,
     "status": "pending"
    },
    "tags": []
   },
   "outputs": [],
   "source": [
    "\n",
    "# Create Empty list\n",
    "\n",
    "lst=[]\n",
    "lst_even = []\n",
    "lst_odd = []\n",
    "for i in range(0, 5):\n",
    "    print(\"Enter number at index\", i, )\n",
    "    item = int(input())\n",
    "    lst.append(item)\n",
    "\n",
    "for i in lst:\n",
    "    if i%2 == 0 :\n",
    "        lst_even.append(i)\n",
    "    else:\n",
    "        lst_odd.append(i)\n",
    "        \n",
    "print (\"The even List elements are :\", lst_even)\n",
    "print (\"The odd list elements are : \", lst_odd)\n",
    "        "
   ]
  },
  {
   "cell_type": "markdown",
   "id": "78caab2b",
   "metadata": {
    "papermill": {
     "duration": null,
     "end_time": null,
     "exception": null,
     "start_time": null,
     "status": "pending"
    },
    "tags": []
   },
   "source": [
    "### Question 17:\n",
    "    # Write a python program that asks the user to enter an integer number then\n",
    "    # it prints its factorial\n",
    "    # Note: factorial(n) = n*(n-1)*(n-2)*(n-3)*(n-4).......*3*2*1\n"
   ]
  },
  {
   "cell_type": "code",
   "execution_count": null,
   "id": "453871c0",
   "metadata": {
    "execution": {
     "iopub.execute_input": "2022-11-18T23:23:34.186148Z",
     "iopub.status.busy": "2022-11-18T23:23:34.185132Z",
     "iopub.status.idle": "2022-11-18T23:23:38.332017Z",
     "shell.execute_reply": "2022-11-18T23:23:38.330865Z",
     "shell.execute_reply.started": "2022-11-18T23:23:34.186098Z"
    },
    "papermill": {
     "duration": null,
     "end_time": null,
     "exception": null,
     "start_time": null,
     "status": "pending"
    },
    "tags": []
   },
   "outputs": [],
   "source": [
    "    \n",
    "n = int(input(\"Enter the number to calculate it's factorial\"))\n",
    "\n",
    "# While counter \n",
    "x = n \n",
    "\n",
    "# Factorial Variable \n",
    "factorial_n = 1\n",
    "\n",
    "while x >= 1:\n",
    "    factorial_n = factorial_n * x\n",
    "    x -=1\n",
    "\n",
    "print(\"The factorial of {} is {}\".format(n,factorial_n))"
   ]
  },
  {
   "cell_type": "markdown",
   "id": "495f3d12",
   "metadata": {
    "papermill": {
     "duration": null,
     "end_time": null,
     "exception": null,
     "start_time": null,
     "status": "pending"
    },
    "tags": []
   },
   "source": [
    "### Question 18:\n",
    "    # Write a python program that asks the user to enter two integer numbers, a\n",
    "    # and b, then it prints a power b\n",
    "    # Note: a power b= a *a *a .... ( b times)\n"
   ]
  },
  {
   "cell_type": "code",
   "execution_count": null,
   "id": "078dc959",
   "metadata": {
    "execution": {
     "iopub.execute_input": "2022-11-18T23:23:41.712608Z",
     "iopub.status.busy": "2022-11-18T23:23:41.712208Z",
     "iopub.status.idle": "2022-11-18T23:23:45.867046Z",
     "shell.execute_reply": "2022-11-18T23:23:45.865915Z",
     "shell.execute_reply.started": "2022-11-18T23:23:41.712577Z"
    },
    "papermill": {
     "duration": null,
     "end_time": null,
     "exception": null,
     "start_time": null,
     "status": "pending"
    },
    "tags": []
   },
   "outputs": [],
   "source": [
    "\n",
    "base = int(input(\"Enter the first integer : \"))\n",
    "exponent = int(input(\"Enter the Secont integer : \"))\n",
    "\n",
    "result = 1\n",
    "\n",
    "while exponent != 0:\n",
    "    result *= base\n",
    "    exponent-=1\n",
    "\n",
    "print(\"{} power {} is {}\".format(base , exponent , result))"
   ]
  }
 ],
 "metadata": {
  "kernelspec": {
   "display_name": "Python 3",
   "language": "python",
   "name": "python3"
  },
  "language_info": {
   "codemirror_mode": {
    "name": "ipython",
    "version": 3
   },
   "file_extension": ".py",
   "mimetype": "text/x-python",
   "name": "python",
   "nbconvert_exporter": "python",
   "pygments_lexer": "ipython3",
   "version": "3.7.12"
  },
  "papermill": {
   "default_parameters": {},
   "duration": 8.471392,
   "end_time": "2022-11-18T23:24:37.406650",
   "environment_variables": {},
   "exception": true,
   "input_path": "__notebook__.ipynb",
   "output_path": "__notebook__.ipynb",
   "parameters": {},
   "start_time": "2022-11-18T23:24:28.935258",
   "version": "2.3.4"
  }
 },
 "nbformat": 4,
 "nbformat_minor": 5
}
